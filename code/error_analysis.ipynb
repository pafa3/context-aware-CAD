{
 "cells": [
  {
   "cell_type": "code",
   "execution_count": 2,
   "id": "a0c4fd97-3746-43de-9bd8-b3822a5e6586",
   "metadata": {},
   "outputs": [],
   "source": [
    "import pandas as pd\n",
    "file_path = '../result/error_analysis_level_3.csv'  \n",
    "df = pd.read_csv(file_path, sep=',')"
   ]
  },
  {
   "cell_type": "code",
   "execution_count": 3,
   "id": "460fa11a-ce26-412d-ad2c-c2eec5875b76",
   "metadata": {},
   "outputs": [
    {
     "data": {
      "text/plain": [
       "'../error_analysis/filtered_error_analysis.csv'"
      ]
     },
     "execution_count": 3,
     "metadata": {},
     "output_type": "execute_result"
    }
   ],
   "source": [
    "# Filtering the dataset to include only rows where there is a disagreement between labels_info and prediction_level_3\n",
    "error_analysis = df[df['labels_info'] != df['prediction_level_3']]\n",
    "\n",
    "# Saving the filtered data to a new CSV file\n",
    "error_file_path = '../error_analysis/filtered_error_analysis.csv'\n",
    "error_analysis.to_csv(error_file_path, index=False)\n",
    "\n",
    "error_file_path"
   ]
  },
  {
   "cell_type": "code",
   "execution_count": 4,
   "id": "41ca6455-0126-45a6-9cf6-7a900c513e95",
   "metadata": {},
   "outputs": [],
   "source": [
    "import numpy as np\n",
    "\n",
    "# Ensure reproducibility by setting a random seed\n",
    "np.random.seed(0)\n",
    "\n",
    "# Randomly select 385 samples from the error_analysis dataset\n",
    "sampled_errors = error_analysis.sample(n=385, random_state=0)\n",
    "\n"
   ]
  },
  {
   "cell_type": "code",
   "execution_count": 7,
   "id": "53487c87-37ad-4fe1-9dfa-78d01668bbab",
   "metadata": {},
   "outputs": [],
   "source": [
    "sampled_error_file_path = '../error_analysis/sampled_error_analysis.csv'\n",
    "sampled_errors.to_csv(sampled_error_file_path, index=False)"
   ]
  },
  {
   "cell_type": "markdown",
   "id": "c832584b-80ac-4bbc-93df-b5460f95b43a",
   "metadata": {},
   "source": [
    "### confusion_matrix, classification_report"
   ]
  },
  {
   "cell_type": "code",
   "execution_count": 54,
   "id": "113e565f-5660-4cc4-8ef1-679a43013977",
   "metadata": {},
   "outputs": [
    {
     "data": {
      "text/plain": [
       "dict_keys(['multiclass_1.csv', 'multiclass_2.csv', 'multiclass_3.csv', 'binary_1.csv', 'binary_2.csv', 'binary_3.csv'])"
      ]
     },
     "execution_count": 54,
     "metadata": {},
     "output_type": "execute_result"
    }
   ],
   "source": [
    "import os\n",
    "from sklearn.metrics import classification_report\n",
    "# Base directory where the files are located\n",
    "base_dir = '../result/'\n",
    "\n",
    "# File names for all six CSV files\n",
    "file_names = [\n",
    "    'multiclass_1.csv',\n",
    "    'multiclass_2.csv',\n",
    "    'multiclass_3.csv',\n",
    "    'binary_1.csv',\n",
    "    'binary_2.csv',\n",
    "    'binary_3.csv'\n",
    "]\n",
    "\n",
    "# Create a dictionary to hold the dataframes\n",
    "dfs = {}\n",
    "\n",
    "# Loop through each file name and read the file into a pandas DataFrame\n",
    "for file_name in file_names:\n",
    "    # Construct the full file path\n",
    "    file_path = os.path.join(base_dir, file_name)\n",
    "    # Read the CSV file into a DataFrame\n",
    "    df = pd.read_csv(file_path)\n",
    "    # Add the DataFrame to the dictionary using the name as the key\n",
    "    dfs[file_name] = df\n",
    "\n",
    "# Now we have a dictionary where each key is the file name and each value is the corresponding DataFrame\n",
    "dfs.keys()\n"
   ]
  },
  {
   "cell_type": "code",
   "execution_count": 55,
   "id": "e64a6fea-f6f7-4596-bd5c-4fab5273cae0",
   "metadata": {},
   "outputs": [
    {
     "name": "stdout",
     "output_type": "stream",
     "text": [
      "multiclass_1.csv: True Labels - 5307, Predicted Labels - 5307\n",
      "multiclass_2.csv: True Labels - 5307, Predicted Labels - 5307\n",
      "multiclass_3.csv: True Labels - 5307, Predicted Labels - 5307\n",
      "binary_1.csv: True Labels - 5307, Predicted Labels - 5307\n",
      "binary_2.csv: True Labels - 5307, Predicted Labels - 5307\n",
      "binary_3.csv: True Labels - 5307, Predicted Labels - 5307\n"
     ]
    }
   ],
   "source": [
    "# Since we are going to use a conditional approach to handle different column names for predictions,\n",
    "# we will create a function to extract true labels and predicted labels based on the file naming convention.\n",
    "\n",
    "def extract_labels(df, file_name):\n",
    "    # Check if the file name suggests which level of prediction we should use\n",
    "    if 'multiclass_1' in file_name:\n",
    "        predicted_column = 'prediction_level_1'\n",
    "    elif 'multiclass_2' in file_name:\n",
    "        predicted_column = 'prediction_level_2'\n",
    "    elif 'multiclass_3' in file_name:\n",
    "        predicted_column = 'prediction_level_3'\n",
    "    elif 'binary_1' in file_name:\n",
    "        predicted_column = 'prediction_level_1'\n",
    "    elif 'binary_2' in file_name:\n",
    "        predicted_column = 'prediction_level_2'\n",
    "    elif 'binary_3' in file_name:\n",
    "        predicted_column = 'prediction_level_3'\n",
    "    else:\n",
    "        # Default to a generic column name if not found\n",
    "        predicted_column = 'prediction'\n",
    "    \n",
    "    # Extract the true labels and the predicted labels\n",
    "    true_labels = df['labels_info']\n",
    "    predicted_labels = df[predicted_column]\n",
    "    \n",
    "    return true_labels, predicted_labels\n",
    "\n",
    "for file_name, df in dfs.items():\n",
    "    true_labels, predicted_labels = extract_labels(df, file_name)\n",
    "    # For demonstration, we will just print out the length of each to confirm it's working\n",
    "    print(f\"{file_name}: True Labels - {len(true_labels)}, Predicted Labels - {len(predicted_labels)}\")\n",
    "\n"
   ]
  },
  {
   "cell_type": "code",
   "execution_count": 42,
   "id": "cae3500a-416d-4499-be84-9405f4c05b76",
   "metadata": {},
   "outputs": [
    {
     "name": "stdout",
     "output_type": "stream",
     "text": [
      "multiclass_1.csv: True Labels - 5307, Predicted Labels - 5307\n",
      "multiclass_2.csv: True Labels - 5307, Predicted Labels - 5307\n",
      "multiclass_3.csv: True Labels - 5307, Predicted Labels - 5307\n",
      "binary_1.csv: True Labels - 5307, Predicted Labels - 5307\n",
      "binary_2.csv: True Labels - 5307, Predicted Labels - 5307\n",
      "binary_3.csv: True Labels - 5307, Predicted Labels - 5307\n"
     ]
    }
   ],
   "source": [
    "def extract_labels(df, file_name):\n",
    "    # Extracting the level from the file name (assuming format like 'multiclass_1.csv')\n",
    "    if 'multiclass' in file_name or 'binary' in file_name:\n",
    "        level = file_name.split('_')[1].split('.')[0]  # This will extract the number after '_'\n",
    "        predicted_column = f'prediction_level_{level}'\n",
    "    else:\n",
    "        # Default to a generic column name if not found\n",
    "        predicted_column = 'prediction'\n",
    "    \n",
    "    true_labels = df['labels_info']\n",
    "    predicted_labels = df[predicted_column]\n",
    "\n",
    "    # Filter out 'CounterSpeech' if it's a multiclass dataset\n",
    "    if 'multiclass' in file_name:\n",
    "        mask = true_labels != 'CounterSpeech'\n",
    "        true_labels = true_labels[mask]\n",
    "        predicted_labels = predicted_labels[mask]\n",
    "    \n",
    "    return true_labels, predicted_labels\n",
    "\n",
    "\n",
    "for file_name, df in dfs.items():\n",
    "    true_labels, predicted_labels = extract_labels(df, file_name)\n",
    "    # For demonstration, we will just print out the length of each to confirm it's working\n",
    "    print(f\"{file_name}: True Labels - {len(true_labels)}, Predicted Labels - {len(predicted_labels)}\")\n"
   ]
  },
  {
   "cell_type": "code",
   "execution_count": 56,
   "id": "a73e788f-6056-41ea-ac5b-a427d9db24bc",
   "metadata": {},
   "outputs": [
    {
     "name": "stdout",
     "output_type": "stream",
     "text": [
      "Confusion Matrix for multiclass_1.csv:\n",
      "[[  90   16   84   15]\n",
      " [  43  175  242   54]\n",
      " [ 156  151 3947  153]\n",
      " [   8   13   89   71]]\n",
      "\n",
      "Classification Report for multiclass_1.csv:\n",
      "                          precision    recall  f1-score   support\n",
      "\n",
      "AffiliationDirectedAbuse       0.30      0.44      0.36       205\n",
      "   IdentityDirectedAbuse       0.49      0.34      0.40       514\n",
      "                 Neutral       0.90      0.90      0.90      4407\n",
      "     PersonDirectedAbuse       0.24      0.39      0.30       181\n",
      "\n",
      "                accuracy                           0.81      5307\n",
      "               macro avg       0.49      0.52      0.49      5307\n",
      "            weighted avg       0.82      0.81      0.81      5307\n",
      "\n",
      "\n",
      "Confusion Matrix for multiclass_2.csv:\n",
      "[[  93   26   95   22]\n",
      " [  33  133  229   42]\n",
      " [ 109  185 3975  134]\n",
      " [  11   25  108   87]]\n",
      "\n",
      "Classification Report for multiclass_2.csv:\n",
      "                          precision    recall  f1-score   support\n",
      "\n",
      "AffiliationDirectedAbuse       0.38      0.39      0.39       236\n",
      "   IdentityDirectedAbuse       0.36      0.30      0.33       437\n",
      "                 Neutral       0.90      0.90      0.90      4403\n",
      "     PersonDirectedAbuse       0.31      0.38      0.34       231\n",
      "\n",
      "                accuracy                           0.81      5307\n",
      "               macro avg       0.49      0.49      0.49      5307\n",
      "            weighted avg       0.81      0.81      0.81      5307\n",
      "\n",
      "\n",
      "Confusion Matrix for multiclass_3.csv:\n",
      "[[ 114   33   79   15]\n",
      " [  46  159  209   23]\n",
      " [ 162  217 3913  118]\n",
      " [  13   34  102   70]]\n",
      "\n",
      "Classification Report for multiclass_3.csv:\n",
      "                          precision    recall  f1-score   support\n",
      "\n",
      "AffiliationDirectedAbuse       0.34      0.47      0.40       241\n",
      "   IdentityDirectedAbuse       0.36      0.36      0.36       437\n",
      "                 Neutral       0.91      0.89      0.90      4410\n",
      "     PersonDirectedAbuse       0.31      0.32      0.31       219\n",
      "\n",
      "                accuracy                           0.80      5307\n",
      "               macro avg       0.48      0.51      0.49      5307\n",
      "            weighted avg       0.81      0.80      0.81      5307\n",
      "\n",
      "\n",
      "Confusion Matrix for binary_1.csv:\n",
      "[[ 582  315]\n",
      " [ 859 3551]]\n",
      "\n",
      "Classification Report for binary_1.csv:\n",
      "                precision    recall  f1-score   support\n",
      "\n",
      "Abusive Speech       0.40      0.65      0.50       897\n",
      "       Neutral       0.92      0.81      0.86      4410\n",
      "\n",
      "      accuracy                           0.78      5307\n",
      "     macro avg       0.66      0.73      0.68      5307\n",
      "  weighted avg       0.83      0.78      0.80      5307\n",
      "\n",
      "\n",
      "Confusion Matrix for binary_2.csv:\n",
      "[[ 647  259]\n",
      " [1106 3295]]\n",
      "\n",
      "Classification Report for binary_2.csv:\n",
      "                precision    recall  f1-score   support\n",
      "\n",
      "Abusive Speech       0.37      0.71      0.49       906\n",
      "       Neutral       0.93      0.75      0.83      4401\n",
      "\n",
      "      accuracy                           0.74      5307\n",
      "     macro avg       0.65      0.73      0.66      5307\n",
      "  weighted avg       0.83      0.74      0.77      5307\n",
      "\n",
      "\n",
      "Confusion Matrix for binary_3.csv:\n",
      "[[ 662  244]\n",
      " [1158 3243]]\n",
      "\n",
      "Classification Report for binary_3.csv:\n",
      "                precision    recall  f1-score   support\n",
      "\n",
      "Abusive Speech       0.36      0.73      0.49       906\n",
      "       Neutral       0.93      0.74      0.82      4401\n",
      "\n",
      "      accuracy                           0.74      5307\n",
      "     macro avg       0.65      0.73      0.65      5307\n",
      "  weighted avg       0.83      0.74      0.76      5307\n",
      "\n",
      "\n"
     ]
    }
   ],
   "source": [
    "from sklearn.metrics import confusion_matrix, classification_report\n",
    "\n",
    "# Dictionary to hold the confusion matrices and classification reports\n",
    "conf_matrices = {}\n",
    "class_reports = {}\n",
    "\n",
    "# Loop through each DataFrame, compute the confusion matrix and classification report\n",
    "for file_name, df in dfs.items():\n",
    "    true_labels, predicted_labels = extract_labels(df, file_name)\n",
    "    \n",
    "    # Compute the confusion matrix and classification report\n",
    "    conf_matrices[file_name] = confusion_matrix(true_labels, predicted_labels)\n",
    "    class_reports[file_name] = classification_report(true_labels, predicted_labels)\n",
    "\n",
    "# Now you have dictionaries with confusion matrices and classification reports\n",
    "# You can print them out or process them further as needed\n",
    "for file_name in file_names:\n",
    "    print(f\"Confusion Matrix for {file_name}:\\n{conf_matrices[file_name]}\\n\")\n",
    "    print(f\"Classification Report for {file_name}:\\n{class_reports[file_name]}\\n\")"
   ]
  },
  {
   "cell_type": "code",
   "execution_count": 30,
   "id": "f9315531-b744-465c-9f33-6d34766add90",
   "metadata": {},
   "outputs": [
    {
     "name": "stderr",
     "output_type": "stream",
     "text": [
      "C:\\ProgramData\\Anaconda3\\lib\\site-packages\\sklearn\\metrics\\_classification.py:1318: UndefinedMetricWarning: Precision and F-score are ill-defined and being set to 0.0 in labels with no predicted samples. Use `zero_division` parameter to control this behavior.\n",
      "  _warn_prf(average, modifier, msg_start, len(result))\n",
      "C:\\ProgramData\\Anaconda3\\lib\\site-packages\\sklearn\\metrics\\_classification.py:1318: UndefinedMetricWarning: Precision and F-score are ill-defined and being set to 0.0 in labels with no predicted samples. Use `zero_division` parameter to control this behavior.\n",
      "  _warn_prf(average, modifier, msg_start, len(result))\n",
      "C:\\ProgramData\\Anaconda3\\lib\\site-packages\\sklearn\\metrics\\_classification.py:1318: UndefinedMetricWarning: Precision and F-score are ill-defined and being set to 0.0 in labels with no predicted samples. Use `zero_division` parameter to control this behavior.\n",
      "  _warn_prf(average, modifier, msg_start, len(result))\n",
      "C:\\ProgramData\\Anaconda3\\lib\\site-packages\\sklearn\\metrics\\_classification.py:1318: UndefinedMetricWarning: Precision and F-score are ill-defined and being set to 0.0 in labels with no predicted samples. Use `zero_division` parameter to control this behavior.\n",
      "  _warn_prf(average, modifier, msg_start, len(result))\n",
      "C:\\ProgramData\\Anaconda3\\lib\\site-packages\\sklearn\\metrics\\_classification.py:1318: UndefinedMetricWarning: Precision and F-score are ill-defined and being set to 0.0 in labels with no predicted samples. Use `zero_division` parameter to control this behavior.\n",
      "  _warn_prf(average, modifier, msg_start, len(result))\n",
      "C:\\ProgramData\\Anaconda3\\lib\\site-packages\\sklearn\\metrics\\_classification.py:1318: UndefinedMetricWarning: Precision and F-score are ill-defined and being set to 0.0 in labels with no predicted samples. Use `zero_division` parameter to control this behavior.\n",
      "  _warn_prf(average, modifier, msg_start, len(result))\n",
      "C:\\ProgramData\\Anaconda3\\lib\\site-packages\\sklearn\\metrics\\_classification.py:1318: UndefinedMetricWarning: Precision and F-score are ill-defined and being set to 0.0 in labels with no predicted samples. Use `zero_division` parameter to control this behavior.\n",
      "  _warn_prf(average, modifier, msg_start, len(result))\n",
      "C:\\ProgramData\\Anaconda3\\lib\\site-packages\\sklearn\\metrics\\_classification.py:1318: UndefinedMetricWarning: Precision and F-score are ill-defined and being set to 0.0 in labels with no predicted samples. Use `zero_division` parameter to control this behavior.\n",
      "  _warn_prf(average, modifier, msg_start, len(result))\n",
      "C:\\ProgramData\\Anaconda3\\lib\\site-packages\\sklearn\\metrics\\_classification.py:1318: UndefinedMetricWarning: Precision and F-score are ill-defined and being set to 0.0 in labels with no predicted samples. Use `zero_division` parameter to control this behavior.\n",
      "  _warn_prf(average, modifier, msg_start, len(result))\n"
     ]
    },
    {
     "name": "stdout",
     "output_type": "stream",
     "text": [
      "Confusion Matrix for multiclass_1.csv:\n",
      "[[ 114    0   36   90   18]\n",
      " [   4    0   17   41    4]\n",
      " [  47    0  220  267   56]\n",
      " [ 149    0  194 3892  109]\n",
      " [  14    0   25  112   86]]\n",
      "\n",
      "Classification Report for multiclass_1.csv:\n",
      "                          precision    recall  f1-score   support\n",
      "\n",
      "AffiliationDirectedAbuse       0.35      0.44      0.39       258\n",
      "           CounterSpeech       0.00      0.00      0.00        66\n",
      "   IdentityDirectedAbuse       0.45      0.37      0.41       590\n",
      "                 Neutral       0.88      0.90      0.89      4344\n",
      "     PersonDirectedAbuse       0.32      0.36      0.34       237\n",
      "\n",
      "                accuracy                           0.78      5495\n",
      "               macro avg       0.40      0.41      0.40      5495\n",
      "            weighted avg       0.78      0.78      0.78      5495\n",
      "\n",
      "\n",
      "Confusion Matrix for multiclass_2.csv:\n",
      "[[ 121    0   22   92   23]\n",
      " [   5    0   20   37    4]\n",
      " [  49    0  214  271   56]\n",
      " [ 128    0  188 3934   94]\n",
      " [  15    0   23  121   78]]\n",
      "\n",
      "Classification Report for multiclass_2.csv:\n",
      "                          precision    recall  f1-score   support\n",
      "\n",
      "AffiliationDirectedAbuse       0.38      0.47      0.42       258\n",
      "           CounterSpeech       0.00      0.00      0.00        66\n",
      "   IdentityDirectedAbuse       0.46      0.36      0.40       590\n",
      "                 Neutral       0.88      0.91      0.89      4344\n",
      "     PersonDirectedAbuse       0.31      0.33      0.32       237\n",
      "\n",
      "                accuracy                           0.79      5495\n",
      "               macro avg       0.41      0.41      0.41      5495\n",
      "            weighted avg       0.78      0.79      0.78      5495\n",
      "\n",
      "\n",
      "Confusion Matrix for multiclass_3.csv:\n",
      "[[ 104    0   37   95   22]\n",
      " [   4    0   17   40    5]\n",
      " [  26    0  283  241   40]\n",
      " [ 109    0  264 3878   93]\n",
      " [  12    0   40  113   72]]\n",
      "\n",
      "Classification Report for multiclass_3.csv:\n",
      "                          precision    recall  f1-score   support\n",
      "\n",
      "AffiliationDirectedAbuse       0.41      0.40      0.41       258\n",
      "           CounterSpeech       0.00      0.00      0.00        66\n",
      "   IdentityDirectedAbuse       0.44      0.48      0.46       590\n",
      "                 Neutral       0.89      0.89      0.89      4344\n",
      "     PersonDirectedAbuse       0.31      0.30      0.31       237\n",
      "\n",
      "                accuracy                           0.79      5495\n",
      "               macro avg       0.41      0.42      0.41      5495\n",
      "            weighted avg       0.78      0.79      0.79      5495\n",
      "\n",
      "\n",
      "Confusion Matrix for binary_1.csv:\n",
      "[[ 582  315]\n",
      " [ 859 3551]]\n",
      "\n",
      "Classification Report for binary_1.csv:\n",
      "                precision    recall  f1-score   support\n",
      "\n",
      "Abusive Speech       0.40      0.65      0.50       897\n",
      "       Neutral       0.92      0.81      0.86      4410\n",
      "\n",
      "      accuracy                           0.78      5307\n",
      "     macro avg       0.66      0.73      0.68      5307\n",
      "  weighted avg       0.83      0.78      0.80      5307\n",
      "\n",
      "\n",
      "Confusion Matrix for binary_2.csv:\n",
      "[[ 647  259]\n",
      " [1106 3295]]\n",
      "\n",
      "Classification Report for binary_2.csv:\n",
      "                precision    recall  f1-score   support\n",
      "\n",
      "Abusive Speech       0.37      0.71      0.49       906\n",
      "       Neutral       0.93      0.75      0.83      4401\n",
      "\n",
      "      accuracy                           0.74      5307\n",
      "     macro avg       0.65      0.73      0.66      5307\n",
      "  weighted avg       0.83      0.74      0.77      5307\n",
      "\n",
      "\n",
      "Confusion Matrix for binary_3.csv:\n",
      "[[ 662  244]\n",
      " [1158 3243]]\n",
      "\n",
      "Classification Report for binary_3.csv:\n",
      "                precision    recall  f1-score   support\n",
      "\n",
      "Abusive Speech       0.36      0.73      0.49       906\n",
      "       Neutral       0.93      0.74      0.82      4401\n",
      "\n",
      "      accuracy                           0.74      5307\n",
      "     macro avg       0.65      0.73      0.65      5307\n",
      "  weighted avg       0.83      0.74      0.76      5307\n",
      "\n",
      "\n"
     ]
    }
   ],
   "source": [
    "from sklearn.metrics import confusion_matrix, classification_report\n",
    "\n",
    "# Dictionary to hold the confusion matrices and classification reports\n",
    "conf_matrices = {}\n",
    "class_reports = {}\n",
    "\n",
    "# Loop through each DataFrame, compute the confusion matrix and classification report\n",
    "for file_name, df in dfs.items():\n",
    "    true_labels, predicted_labels = extract_labels(df, file_name)\n",
    "    \n",
    "    # Compute the confusion matrix and classification report\n",
    "    conf_matrices[file_name] = confusion_matrix(true_labels, predicted_labels)\n",
    "    class_reports[file_name] = classification_report(true_labels, predicted_labels)\n",
    "\n",
    "# Now you have dictionaries with confusion matrices and classification reports\n",
    "# You can print them out or process them further as needed\n",
    "for file_name in file_names:\n",
    "    print(f\"Confusion Matrix for {file_name}:\\n{conf_matrices[file_name]}\\n\")\n",
    "    print(f\"Classification Report for {file_name}:\\n{class_reports[file_name]}\\n\")\n"
   ]
  },
  {
   "cell_type": "code",
   "execution_count": 23,
   "id": "4248ea6f-34a2-4dd7-8114-c559e152fed9",
   "metadata": {},
   "outputs": [
    {
     "data": {
      "text/plain": [
       "{'base_result1.csv': array([[ 114,   36,   90,   18],\n",
       "        [  47,  220,  267,   56],\n",
       "        [ 149,  194, 3892,  109],\n",
       "        [  14,   25,  112,   86]], dtype=int64),\n",
       " 'base_result2.csv': array([[ 121,   22,   92,   23],\n",
       "        [  49,  214,  271,   56],\n",
       "        [ 128,  188, 3934,   94],\n",
       "        [  15,   23,  121,   78]], dtype=int64),\n",
       " 'base_result3.csv': array([[ 104,   37,   95,   22],\n",
       "        [  26,  283,  241,   40],\n",
       "        [ 109,  264, 3878,   93],\n",
       "        [  12,   40,  113,   72]], dtype=int64),\n",
       " 'error_analysis_level_1.csv': array([[ 582,  315],\n",
       "        [ 859, 3551]], dtype=int64),\n",
       " 'error_analysis_level_2.csv': array([[ 647,  259],\n",
       "        [1106, 3295]], dtype=int64),\n",
       " 'error_analysis_level_3.csv': array([[ 662,  244],\n",
       "        [1158, 3243]], dtype=int64)}"
      ]
     },
     "execution_count": 23,
     "metadata": {},
     "output_type": "execute_result"
    }
   ],
   "source": [
    "import seaborn as sns\n",
    "import matplotlib.pyplot as plt\n",
    "from sklearn.metrics import confusion_matrix, classification_report\n",
    "import numpy as np\n",
    "\n",
    "# Function to process the dataframes and generate confusion matrices and classification reports excluding 'CounterSpeech'\n",
    "def process_dataframes(dfs):\n",
    "    conf_matrices = {}\n",
    "    class_reports = {}\n",
    "    \n",
    "    for file_name, df in dfs.items():\n",
    "        # Use the previously defined function to extract true and predicted labels\n",
    "        true_labels, predicted_labels = extract_labels(df, file_name)\n",
    "        \n",
    "        # Filter out 'CounterSpeech' from the data\n",
    "        mask = true_labels != 'CounterSpeech'\n",
    "        filtered_true_labels = true_labels[mask]\n",
    "        filtered_predicted_labels = predicted_labels[mask]\n",
    "        \n",
    "        # Compute the confusion matrix and classification report without 'CounterSpeech'\n",
    "        conf_matrices[file_name] = confusion_matrix(filtered_true_labels, filtered_predicted_labels)\n",
    "        class_reports[file_name] = classification_report(filtered_true_labels, filtered_predicted_labels, output_dict=True)\n",
    "    \n",
    "    return conf_matrices, class_reports\n",
    "\n",
    "# Process the dataframes\n",
    "conf_matrices, class_reports = process_dataframes(dfs)\n",
    "\n",
    "# Now, let's visualize the confusion matrix for one of the files using seaborn\n",
    "def plot_confusion_matrix(conf_matrix, classes, file_name):\n",
    "    # Convert the confusion matrix to a DataFrame\n",
    "    df_cm = pd.DataFrame(conf_matrix, index=classes, columns=classes)\n",
    "    \n",
    "    plt.figure(figsize=(4, 2))\n",
    "    sns.heatmap(df_cm, annot=True, fmt='g', cmap='Blues')\n",
    "    plt.title(f'Confusion Matrix for {file_name}')\n",
    "    plt.ylabel('True label')\n",
    "    plt.xlabel('Predicted label')\n",
    "    plt.show()\n",
    "\n",
    "# Since 'CounterSpeech' class is removed, we exclude it from the labels\n",
    "labels = ['AffiliationDirectedAbuse', 'IdentityDirectedAbuse', 'Neutral', 'PersonDirectedAbuse']\n",
    "\n",
    "# Plot the confusion matrix for 'base_result1.csv' as an example\n",
    "#plot_confusion_matrix(conf_matrices['base_result1.csv'], labels, 'base_result1.csv')\n",
    "conf_matrices\n"
   ]
  },
  {
   "cell_type": "code",
   "execution_count": 24,
   "id": "d609421e-fb47-4d80-bd13-b5e29967e5da",
   "metadata": {},
   "outputs": [
    {
     "data": {
      "image/png": "[encoded data removed]",
      "text/plain": [
       "<Figure size 288x144 with 2 Axes>"
      ]
     },
     "metadata": {
      "needs_background": "light"
     },
     "output_type": "display_data"
    },
    {
     "data": {
      "image/png": "[encoded data removed]",
      "text/plain": [
       "<Figure size 288x144 with 2 Axes>"
      ]
     },
     "metadata": {
      "needs_background": "light"
     },
     "output_type": "display_data"
    },
    {
     "data": {
      "image/png": "[encoded data removed]",
      "text/plain": [
       "<Figure size 288x144 with 2 Axes>"
      ]
     },
     "metadata": {
      "needs_background": "light"
     },
     "output_type": "display_data"
    },
    {
     "data": {
      "image/png": "[encoded data removed]",
      "text/plain": [
       "<Figure size 288x144 with 2 Axes>"
      ]
     },
     "metadata": {
      "needs_background": "light"
     },
     "output_type": "display_data"
    },
    {
     "data": {
      "image/png": "[encoded data removed]",
      "text/plain": [
       "<Figure size 288x144 with 2 Axes>"
      ]
     },
     "metadata": {
      "needs_background": "light"
     },
     "output_type": "display_data"
    },
    {
     "data": {
      "image/png": "[encoded data removed]",
      "text/plain": [
       "<Figure size 288x144 with 2 Axes>"
      ]
     },
     "metadata": {
      "needs_background": "light"
     },
     "output_type": "display_data"
    }
   ],
   "source": [
    "multiclass_classes = ['Affiliation Abuse', 'Identity Abuse', 'Neutral', 'Person Abuse']\n",
    "\n",
    "# Class names for binary classification models\n",
    "binary_classes = ['Abusive Speech', 'Neutral']\n",
    "\n",
    "# Plot confusion matrices for each file\n",
    "for file_name, conf_matrix in conf_matrices.items():\n",
    "    classes = binary_classes if 'error_analysis_level' in file_name else multiclass_classes\n",
    "    plot_confusion_matrix(conf_matrix, classes, file_name)"
   ]
  },
  {
   "cell_type": "code",
   "execution_count": 26,
   "id": "455e2242-dbc3-45a8-809c-becf44caa1f5",
   "metadata": {},
   "outputs": [
    {
     "ename": "SyntaxError",
     "evalue": "unexpected character after line continuation character (1699747453.py, line 1)",
     "output_type": "error",
     "traceback": [
      "\u001b[1;36m  Input \u001b[1;32mIn [26]\u001b[1;36m\u001b[0m\n\u001b[1;33m    \\begin{figure}[H]\u001b[0m\n\u001b[1;37m     ^\u001b[0m\n\u001b[1;31mSyntaxError\u001b[0m\u001b[1;31m:\u001b[0m unexpected character after line continuation character\n"
     ]
    }
   ],
   "source": [
    "\\begin{figure}[H]\n",
    "    \\centering\n",
    "    \\begin{subfigure}[b]{0.3\\textwidth}\n",
    "        \\centering\n",
    "        \\[\n",
    "        \\begin{bmatrix}\n",
    "        582 & 315 \\\\\n",
    "        859 & 3551\n",
    "        \\end{bmatrix}\n",
    "        \\]\n",
    "        \\caption{Binary Model 1}\n",
    "    \\end{subfigure}\n",
    "    \\hfill\n",
    "    \\begin{subfigure}[b]{0.3\\textwidth}\n",
    "        \\centering\n",
    "        \\[\n",
    "        \\begin{bmatrix}\n",
    "        647 & 259 \\\\\n",
    "        1106 & 3295\n",
    "        \\end{bmatrix}\n",
    "        \\]\n",
    "        \\caption{Binary Model 2}\n",
    "    \\end{subfigure}\n",
    "    \\hfill\n",
    "    \\begin{subfigure}[b]{0.3\\textwidth}\n",
    "        \\centering\n",
    "        \\[\n",
    "        \\begin{bmatrix}\n",
    "        662 & 244 \\\\\n",
    "        1158 & 3243\n",
    "        \\end{bmatrix}\n",
    "        \\]\n",
    "        \\caption{Binary Model 3}\n",
    "    \\end{subfigure}\n",
    "    \\caption{Confusion Matrices for Binary Classification Models}\n",
    "\\end{figure}\n",
    "\n",
    "\\begin{figure}[H]\n",
    "    \\centering\n",
    "    \\begin{subfigure}[b]{0.3\\textwidth}\n",
    "        \\centering\n",
    "        \\[\n",
    "        \\begin{bmatrix}\n",
    "        114 & 0 & 36 & 90 & 18 \\\\\n",
    "        4 & 0 & 17 & 41 & 4 \\\\\n",
    "        47 & 0 & 220 & 267 & 56 \\\\\n",
    "        149 & 0 & 194 & 3892 & 109 \\\\\n",
    "        14 & 0 & 25 & 112 & 86\n",
    "        \\end{bmatrix}\n",
    "        \\]\n",
    "        \\caption{Multi-Class Model 1}\n",
    "    \\end{subfigure}\n",
    "    \\hfill\n",
    "    \\begin{subfigure}[b]{0.3\\textwidth}\n",
    "        \\centering\n",
    "        \\[\n",
    "        \\begin{bmatrix}\n",
    "        121 & 0 & 22 & 92 & 23 \\\\\n",
    "        5 & 0 & 20 & 37 & 4 \\\\\n",
    "        49 & 0 & 214 & 271 & 56 \\\\\n",
    "        128 & 0 & 188 & 3934 & 94 \\\\\n",
    "        15 & 0 & 23 & 121 & 78\n",
    "        \\end{bmatrix}\n",
    "        \\]\n",
    "        \\caption{Multi-Class Model 2}\n",
    "    \\end{subfigure}\n",
    "    \\hfill\n",
    "    \\begin{subfigure}[b]{0.3\\textwidth}\n",
    "        \\centering\n",
    "        \\[\n",
    "        \\begin{bmatrix}\n",
    "        104 & 0 & 37 & 95 & 22 \\\\\n",
    "        4 & 0 & 17 & 40 & 5 \\\\\n",
    "        26 & 0 & 283 & 241 & 40 \\\\\n",
    "        109 & 0 & 264 & 3878 & 93 \\\\\n",
    "        12 & 0 & 40 & 113 & 72\n",
    "        \\end{bmatrix}\n",
    "        \\]\n",
    "        \\caption{Multi-Class Model 3}\n",
    "    \\end{subfigure}\n",
    "    \\caption{Confusion Matrices for Multi-Class Classification Models}\n",
    "\\end{figure}"
   ]
  }
 ],
 "metadata": {
  "kernelspec": {
   "display_name": "Python 3 (ipykernel)",
   "language": "python",
   "name": "python3"
  },
  "language_info": {
   "codemirror_mode": {
    "name": "ipython",
    "version": 3
   },
   "file_extension": ".py",
   "mimetype": "text/x-python",
   "name": "python",
   "nbconvert_exporter": "python",
   "pygments_lexer": "ipython3",
   "version": "3.9.12"
  }
 },
 "nbformat": 4,
 "nbformat_minor": 5
}
