{
 "cells": [
  {
   "cell_type": "markdown",
   "id": "42134d65-36ed-4bdf-93e8-a55e063712a5",
   "metadata": {},
   "source": [
    "### creating the datasets"
   ]
  },
  {
   "cell_type": "code",
   "execution_count": 2,
   "id": "69954fa1-7b05-41e9-8b5f-6e1aac2d612f",
   "metadata": {},
   "outputs": [],
   "source": [
    "import pandas as pd\n",
    "\n",
    "# Load the TSV dataset \n",
    "file_path = '../data/cad_v1_1.tsv' \n",
    "df = pd.read_csv(file_path, sep='\\t')\n"
   ]
  },
  {
   "cell_type": "code",
   "execution_count": 6,
   "id": "d3cf3c96-ed63-417b-b66d-82d2e79cddf5",
   "metadata": {},
   "outputs": [],
   "source": [
    "def fetch_parent_info(row, df, parent_infos, level=0):\n",
    "    parent_id = row['info_id.parent']\n",
    "    # Check if the parent ID is in the DataFrame\n",
    "    if pd.isna(parent_id) or parent_id not in df['info_id'].values:\n",
    "        # Check for a corresponding '-title' entry\n",
    "        if f\"{parent_id}-title\" in df['info_id'].values:\n",
    "            parent_id = f\"{parent_id}-title\"\n",
    "        # Check for a corresponding '-post' entry\n",
    "        elif f\"{parent_id}-post\" in df['info_id'].values:\n",
    "            parent_id = f\"{parent_id}-post\"\n",
    "        else:\n",
    "            # No more parents to fetch\n",
    "            return\n",
    "    parent_row = df.loc[df['info_id'] == parent_id].iloc[0]\n",
    "    parent_infos[f'parent_text_level_{level}'] = parent_row['meta_text']\n",
    "    parent_infos[f'parent_user_level_{level}'] = parent_row['meta_author']\n",
    "    # Recursively fetch the next level parent\n",
    "    fetch_parent_info(parent_row, df, parent_infos, level + 1)\n"
   ]
  },
  {
   "cell_type": "code",
   "execution_count": 8,
   "id": "762930d0-0a13-46e7-8eac-19c3f65a1d1f",
   "metadata": {},
   "outputs": [],
   "source": [
    "max_levels = 15  # Set to the maximum expected number of parent levels\n",
    "for level in range(max_levels):\n",
    "    df[f'parent_text_level_{level}'] = None\n",
    "    df[f'parent_user_level_{level}'] = None\n",
    "\n",
    "# Apply the function to each row and store the information in new columns\n",
    "for index, row in df.iterrows():\n",
    "    parent_infos = {}\n",
    "    fetch_parent_info(row, df, parent_infos)\n",
    "    for key, value in parent_infos.items():\n",
    "        df.at[index, key] = value"
   ]
  },
  {
   "cell_type": "code",
   "execution_count": 9,
   "id": "7c58f53b-64da-4c62-9769-a56f3104b58e",
   "metadata": {},
   "outputs": [],
   "source": [
    "if 'parent_comments' in df.columns:\n",
    "    df.drop(columns=['parent_comments'], inplace=True)\n",
    "if 'parent_comments_fetched' in df.columns:\n",
    "    df.drop(columns=['parent_comments_fetched'], inplace=True)\n"
   ]
  },
  {
   "cell_type": "code",
   "execution_count": 10,
   "id": "6f963b85-673c-44ec-9ac7-842118ea2194",
   "metadata": {},
   "outputs": [],
   "source": [
    "df_train = df[df['split'] == 'train']\n",
    "df_dev = df[df['split'] == 'dev']\n",
    "df_test = df[df['split'] == 'test']"
   ]
  },
  {
   "cell_type": "code",
   "execution_count": 11,
   "id": "5e7a1c7a-89b6-42f6-bba4-2991367e5d09",
   "metadata": {},
   "outputs": [],
   "source": [
    "df.to_csv('../data/cad_v1_1_parents.csv', index=False)\n",
    "df_train.to_csv(\"../data/train.csv\", index=False)\n",
    "df_dev.to_csv(\"../data/dev.csv\", index=False)\n",
    "df_test.to_csv(\"../data/test.csv\", index=False)"
   ]
  }
 ],
 "metadata": {
  "kernelspec": {
   "display_name": "Python 3 (ipykernel)",
   "language": "python",
   "name": "python3"
  },
  "language_info": {
   "codemirror_mode": {
    "name": "ipython",
    "version": 3
   },
   "file_extension": ".py",
   "mimetype": "text/x-python",
   "name": "python",
   "nbconvert_exporter": "python",
   "pygments_lexer": "ipython3",
   "version": "3.9.12"
  }
 },
 "nbformat": 4,
 "nbformat_minor": 5
}
